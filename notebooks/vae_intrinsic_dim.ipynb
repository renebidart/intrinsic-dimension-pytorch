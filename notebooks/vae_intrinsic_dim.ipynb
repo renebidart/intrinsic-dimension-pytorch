{
 "cells": [
  {
   "cell_type": "markdown",
   "metadata": {},
   "source": [
    "# Intrinsic Dimension with VAE using Sparse projection"
   ]
  },
  {
   "cell_type": "code",
   "execution_count": 1,
   "metadata": {},
   "outputs": [],
   "source": [
    "import os\n",
    "import sys\n",
    "import math\n",
    "import pickle\n",
    "import numpy as np\n",
    "import pandas as pd\n",
    "from tqdm import tqdm\n",
    "from pathlib import Path\n",
    "import matplotlib.pyplot as plt\n",
    "from matplotlib.pyplot import imshow\n",
    "from IPython.display import display\n",
    "\n",
    "import torch\n",
    "import torch.nn as nn\n",
    "import torch.nn.functional as F\n",
    "import torchvision\n",
    "import torchvision.transforms as transforms\n",
    "import torch.optim as optim\n",
    "from torch.optim import lr_scheduler\n",
    "from sklearn.random_projection import SparseRandomProjection as SRP\n",
    "from scipy.sparse import find\n",
    "from sklearn.preprocessing import normalize\n",
    "\n",
    "sys.path.append(str(Path.cwd().parent))\n",
    "from utils.training_func import train_net #, train_epoch, validate_epoch, save_checkpoint\n",
    "from utils.training_func_vae import train_vae #, train_epoch, validate_epoch, save_checkpoint\n",
    "\n",
    "from utils.data_loaders import mnist_loaders\n",
    "\n",
    "# sys.path.append(str(Path.cwd().parent.parent))\n",
    "# from pytorch_testing.tests.unit_tests import Tester, SimpleNet\n",
    "\n",
    "%reload_ext autoreload\n",
    "%autoreload 2\n",
    "%matplotlib inline\n",
    "\n",
    "DEVICE = torch.device(\"cuda:0\")\n",
    "PATH = '../data/'"
   ]
  },
  {
   "cell_type": "code",
   "execution_count": 2,
   "metadata": {},
   "outputs": [],
   "source": [
    "class SparseVAE(nn.Module):\n",
    "    ''' Optimize subspace of parameters of network defined as  using dense projection.\n",
    "    \n",
    "    d: intrinsic dimension size to test\n",
    "    layers: torch.nn.ModuleDict()\n",
    "    config: dict with same keys as layers, containing 3 objects: \n",
    "            'type' (str): type of layer\n",
    "            'params' (dict) : all the params to specify the layer (type, ...)\n",
    "            'activation' (dict) : if there is an activation after the layer\n",
    "    \n",
    "    ??? This still won't work for resnets, or any other more complex network\n",
    "    '''\n",
    "    \n",
    "    def __init__(self, d, input_dim=1, output_dim=1, latent_size=8, img_size=28, DEVICE='cuda'):\n",
    "        super(SparseVAE, self).__init__()\n",
    "        self.d = d\n",
    "        self.opt_basis = nn.Parameter(torch.zeros(self.d).to(DEVICE), requires_grad=True)\n",
    "        \n",
    "        self.latent_size = latent_size\n",
    "        self.img_size = img_size\n",
    "        self.input_dim = input_dim\n",
    "        self.output_dim = output_dim\n",
    "        self.linear_size = int(16*(img_size/4)**2)\n",
    "        \n",
    "        self.layers = torch.nn.ModuleDict()\n",
    "\n",
    "        self.layers['enc_conv1'] = nn.Conv2d(self.input_dim, 32, kernel_size=5, stride=1, padding=2, bias=False)\n",
    "        self.layers['enc_bn1'] = nn.BatchNorm2d(32, track_running_stats=True)\n",
    "        self.layers['enc_act1'] = nn.ELU()\n",
    "        self.layers['enc_conv2'] = nn.Conv2d(32, 32, kernel_size=4, stride=2, padding=1, bias=False)\n",
    "        self.layers['enc_bn2'] = nn.BatchNorm2d(32, track_running_stats=True)\n",
    "        self.layers['enc_act2'] = nn.ELU()\n",
    "        self.layers['enc_conv3'] = nn.Conv2d(32, 64, kernel_size=3, stride=2, padding=1, bias=False)\n",
    "        self.layers['enc_bn3'] = nn.BatchNorm2d(64, track_running_stats=True)\n",
    "        self.layers['enc_act3'] = nn.ELU()\n",
    "        self.layers['enc_conv4'] = nn.Conv2d(64, 16, kernel_size=5, stride=1, padding=2, bias=True)\n",
    "\n",
    "        self.layers['dec_conv1'] = nn.ConvTranspose2d(16, 32, kernel_size=4, stride=1, padding=2,  output_padding=0, bias=False)\n",
    "        self.layers['dec_bn1'] = nn.BatchNorm2d(32, track_running_stats=True)\n",
    "        self.layers['dec_act1'] = nn.ELU()\n",
    "        self.layers['dec_conv2'] = nn.ConvTranspose2d(32, 16, kernel_size=5, stride=2, padding=1,  output_padding=1, bias=False)\n",
    "        self.layers['dec_bn2'] = nn.BatchNorm2d(16, track_running_stats=True)\n",
    "        self.layers['dec_act2'] = nn.ELU()\n",
    "        self.layers['dec_conv3'] = nn.ConvTranspose2d(16, 16, kernel_size=5, stride=2, padding=2,  output_padding=1, bias=False)\n",
    "        self.layers['dec_bn3'] = nn.BatchNorm2d(16, track_running_stats=True)\n",
    "        self.layers['dec_act3'] = nn.ELU()\n",
    "        self.layers['dec_conv4'] = nn.ConvTranspose2d(16, self.output_dim, kernel_size=3, stride=1, padding=1,  output_padding=0, bias=True)\n",
    "        \n",
    "        self.config = {}\n",
    "        self.config['fc_mu_logvar'] = 'linear'\n",
    "        self.config['fc_dec'] = 'linear'\n",
    "        self.config['enc_conv1'] = 'conv2d'\n",
    "        self.config['enc_bn1'] = 'batch_norm'\n",
    "        self.config['enc_act1'] = 'elu'\n",
    "        self.config['enc_conv2'] = 'conv2d'\n",
    "        self.config['enc_bn2'] = 'batch_norm'\n",
    "        self.config['enc_act2'] = 'elu'\n",
    "        self.config['enc_conv3'] = 'conv2d'\n",
    "        self.config['enc_bn3'] = 'batch_norm'\n",
    "        self.config['enc_act3'] = 'elu'\n",
    "        self.config['enc_conv4'] = 'conv2d'\n",
    "        self.config['dec_conv1'] = 'conv_transpose2d'\n",
    "        self.config['dec_bn1'] = 'batch_norm'\n",
    "        self.config['dec_act1'] = 'elu'\n",
    "        self.config['dec_conv2'] = 'conv_transpose2d'\n",
    "        self.config['dec_bn2'] = 'batch_norm'\n",
    "        self.config['dec_act2'] = 'elu'\n",
    "        self.config['dec_conv3'] = 'conv_transpose2d'\n",
    "        self.config['dec_bn3'] = 'batch_norm'\n",
    "        self.config['dec_act3'] = 'elu'\n",
    "        self.config['dec_conv4'] = 'conv_transpose2d'\n",
    "        self.layers['fc_mu_logvar'] = nn.Linear(self.linear_size, 2*self.latent_size)\n",
    "        self.layers['fc_dec'] = nn.Linear(self.latent_size, self.linear_size)\n",
    "        \n",
    "        # get full dimension\n",
    "        self.D = 0\n",
    "        for name, layer in self.layers.items():\n",
    "            if hasattr(layer, 'weight'):\n",
    "                self.D += torch.prod(torch.tensor(layer.weight.size()))\n",
    "                if layer.bias is not None:\n",
    "                    self.D += torch.prod(torch.tensor(layer.bias.size()))\n",
    "                layer.requires_grad = False # none of the layers will be updated\n",
    "            \n",
    "        self.D = self.D.item()\n",
    "        self.get_projection_matrix()\n",
    "        \n",
    "    def slice_sparse_tensor(self, sparse_t, idx, dim):\n",
    "        # some from https://stackoverflow.com/questions/50666440/column-row-slicing-a-torch-sparse-tensor\n",
    "\n",
    "        def compact1D(x):\n",
    "            \"\"\" NORMALIZE indices to begin at 0 for new sliced tensor\n",
    "            \"Compact\" values 1D uint tensor, so that all values are in [0, max(unique(x))].\n",
    "            \"\"\"\n",
    "            x_sorted, x_sorted_ind = torch.sort(x, descending=True)\n",
    "            x_sorted_unique, x_sorted_unique_ind = torch.unique(x_sorted, return_inverse=True)\n",
    "            x[x_sorted_ind] = x_sorted_unique_ind\n",
    "            return x\n",
    "\n",
    "        idx = torch.tensor(idx)\n",
    "        sparse_i = sparse_t._indices()\n",
    "        sparse_v = sparse_t._values()\n",
    "\n",
    "        # find indices that are in the sparse tensor\n",
    "        # getting an error, so do it on cpu. CPU is too much memory, so do more efficient np method\n",
    "        existing_idx = np.isin(sparse_i[dim].cpu().numpy(), idx.cpu().numpy())\n",
    "        existing_idx = torch.from_numpy(existing_idx).byte().to(DEVICE)\n",
    "        \n",
    "        existing_idx = existing_idx.nonzero().squeeze()\n",
    "        sparse_i = sparse_i.to(DEVICE)\n",
    "        \n",
    "        # keep only existing indices\n",
    "        v_sliced = sparse_v[existing_idx]\n",
    "\n",
    "        # grab the indices that we want to keep\n",
    "        i_sliced = sparse_i.index_select(dim=1, index=existing_idx)\n",
    "\n",
    "        # Building sparse result tensor:\n",
    "        i_sliced[0] = compact1D(i_sliced[0])\n",
    "        i_sliced[1] = compact1D(i_sliced[1])\n",
    "\n",
    "        # find the new size\n",
    "        size_sliced = torch.tensor(sparse_t.size())\n",
    "        size_sliced[dim] = len(idx)\n",
    "        size_sliced = (size_sliced[0], size_sliced[1]) \n",
    "        \n",
    "        subset_sparse_t = torch.sparse.FloatTensor(i_sliced.to(DEVICE), v_sliced.to(DEVICE), size_sliced)\n",
    "        return subset_sparse_t.to(DEVICE)\n",
    "    \n",
    "    def get_projection_matrix(self):\n",
    "        M = SRP(self.d)._make_random_matrix(self.D, self.d)\n",
    "        M = normalize(M, norm='l2', axis=0)\n",
    "        fm=find(M)\n",
    "        \n",
    "        idx = torch.LongTensor(np.array([fm[0],fm[1]]))\n",
    "        vals = torch.tensor(fm[2])\n",
    "        proj_matrix = torch.sparse.FloatTensor(idx, vals, (self.D, self.d))\n",
    "        \n",
    "        # Turn it into a nice format for a weight and bias matrix for each layer\n",
    "        p_idx = 0\n",
    "        self.projection = {}\n",
    "        for name, layer in self.layers.items():\n",
    "            if hasattr(layer, 'weight'): # ignore anything that doesn't have params like act\n",
    "                self.projection[name] = {}\n",
    "                n_weights = torch.prod(torch.tensor(layer.weight.size()))\n",
    "                self.projection[name]['weight'] = self.slice_sparse_tensor(proj_matrix, \n",
    "                                                                      idx=list(range(p_idx, p_idx + n_weights)), \n",
    "                                                                      dim=0).float()\n",
    "                self.projection[name]['weight'].requires_grad = False\n",
    "                # also make sure the layers aren't trainable\n",
    "                self.layers[name].weight.requires_grad = False\n",
    "                p_idx += n_weights\n",
    "                if layer.bias is not None:\n",
    "                    n_weights = torch.prod(torch.tensor(layer.bias.size()))\n",
    "                    self.projection[name]['bias'] = self.slice_sparse_tensor(proj_matrix, \n",
    "                                                                      idx=list(range(p_idx, p_idx + n_weights)), \n",
    "                                                                      dim=0).float()\n",
    "                    self.projection[name]['bias'].requires_grad = False\n",
    "                    # also make sure the layers aren't trainable\n",
    "                    self.layers[name].bias.requires_grad = False\n",
    "                    p_idx += n_weights\n",
    "\n",
    "    def get_layer_activation(self, name):\n",
    "        mapping={'linear':F.linear,\n",
    "                 'conv2d': F.conv2d,\n",
    "                 'conv_transpose2d': F.conv_transpose2d,\n",
    "                 'relu': F.relu,\n",
    "                 'elu': F.elu,\n",
    "                 'batch_norm': F.batch_norm\n",
    "                }\n",
    "        return mapping[name] if name is not None else None\n",
    "\n",
    "    def encode(self, x):\n",
    "        for name, nn_layer in self.layers.items():\n",
    "            if name[0:3] == 'enc':\n",
    "                params = vars(self.layers[name]) #self.config[name]['params'] vars(x)\n",
    "                params = {k: v for k, v in params.items() if k in ['stride', 'padding', 'dilation', 'groups',\n",
    "                                                                    'running_mean', 'running_var']}\n",
    "                layer = self.get_layer_activation(self.config[name])\n",
    "\n",
    "                if self.config[name] in ['linear', 'conv2d', 'conv_transpose2d', 'batch_norm']:\n",
    "                    new_weight = self.layers[name].weight + torch.sparse.mm(self.projection[name]['weight'], \n",
    "                                                                            self.opt_basis.unsqueeze(-1)\n",
    "                                                               ).view(self.layers[name].weight.size())\n",
    "                    params['weight'] = new_weight\n",
    "\n",
    "                    if self.layers[name].bias is not None:\n",
    "                        new_bias = self.layers[name].bias + torch.sparse.mm(self.projection[name]['bias'], \n",
    "                                                                            self.opt_basis.unsqueeze(-1)\n",
    "                                                                   ).view(self.layers[name].bias.size())\n",
    "                        params['bias'] = new_bias\n",
    "\n",
    "                else: # this is an activation, so no params\n",
    "                    pass\n",
    "                \n",
    "                if self.config[name] is 'batch_norm':\n",
    "                    nn_layer.weight = nn.Parameter(params['weight'])\n",
    "                    nn_layer.bias = nn.Parameter(params['bias'])\n",
    "                    x = nn_layer(input=x)\n",
    "                else:\n",
    "                    x = layer(input=x, **params)\n",
    "               \n",
    "        # final FC layer\n",
    "        x = x.view(x.size(0), -1)\n",
    "        params = vars(self.layers['fc_mu_logvar']) #self.config[name]['params'] vars(x)\n",
    "        params = {k: v for k, v in params.items() if k in ['stride', 'padding', 'dilation', 'groups',\n",
    "                                                                'running_mean', 'running_var']}\n",
    "        layer = self.get_layer_activation(self.config['fc_mu_logvar'])\n",
    "        new_weight = self.layers['fc_mu_logvar'].weight + torch.sparse.mm(self.projection['fc_mu_logvar']['weight'], \n",
    "                                                                self.opt_basis.unsqueeze(-1)\n",
    "                                                   ).view(self.layers['fc_mu_logvar'].weight.size())\n",
    "        new_bias = self.layers['fc_mu_logvar'].bias + torch.sparse.mm(self.projection['fc_mu_logvar']['bias'], \n",
    "                                                            self.opt_basis.unsqueeze(-1)\n",
    "                                                   ).view(self.layers['fc_mu_logvar'].bias.size())\n",
    "        \n",
    "        params['weight'] = new_weight\n",
    "        params['bias'] = new_bias\n",
    "        mu_logvar = layer(input=x, **params) \n",
    "        return mu_logvar\n",
    "\n",
    "\n",
    "    def decode(self, x):\n",
    "        params = vars(self.layers['fc_dec']) #self.config[name]['params'] vars(x)\n",
    "        params = {k: v for k, v in params.items() if k in ['stride', 'padding', 'dilation', 'groups',\n",
    "                                                              'running_mean', 'running_var', 'output_padding']}\n",
    "        layer = self.get_layer_activation(self.config['fc_dec'])\n",
    "        new_weight = self.layers['fc_dec'].weight + torch.sparse.mm(self.projection['fc_dec']['weight'], \n",
    "                                                                self.opt_basis.unsqueeze(-1)\n",
    "                                                   ).view(self.layers['fc_dec'].weight.size())\n",
    "        new_bias = self.layers['fc_dec'].bias + torch.sparse.mm(self.projection['fc_dec']['bias'], \n",
    "                                                            self.opt_basis.unsqueeze(-1)\n",
    "                                                   ).view(self.layers['fc_dec'].bias.size())\n",
    "        params['weight'] = new_weight\n",
    "        params['bias'] = new_bias\n",
    "        x = layer(input=x, **params)\n",
    "        x = x.view((-1, 16, int(self.img_size/4), int(self.img_size/4)))\n",
    "\n",
    "        for name, nn_layer in self.layers.items():\n",
    "            if name[0:3] == 'dec':\n",
    "                params = vars(self.layers[name]) #self.config[name]['params'] vars(x)\n",
    "                params = {k: v for k, v in params.items() if k in ['stride', 'padding', 'dilation', 'groups',\n",
    "                                                                     'running_mean', 'running_var', 'output_padding']}\n",
    "                layer = self.get_layer_activation(self.config[name])\n",
    "\n",
    "                if self.config[name] in ['linear', 'conv2d', 'conv_transpose2d', 'batch_norm']:\n",
    "                    new_weight = self.layers[name].weight + torch.sparse.mm(self.projection[name]['weight'], \n",
    "                                                                            self.opt_basis.unsqueeze(-1)\n",
    "                                                               ).view(self.layers[name].weight.size())\n",
    "                    params['weight'] = new_weight\n",
    "                    if self.layers[name].bias is not None:\n",
    "                        new_bias = self.layers[name].bias + torch.sparse.mm(self.projection[name]['bias'], \n",
    "                                                                            self.opt_basis.unsqueeze(-1)\n",
    "                                                                   ).view(self.layers[name].bias.size())\n",
    "                        params['bias'] = new_bias\n",
    "                else: # this is an activation, so no params\n",
    "                    pass\n",
    "                if self.config[name] is 'batch_norm':\n",
    "                    nn_layer.weight = nn.Parameter(params['weight'])\n",
    "                    nn_layer.bias = nn.Parameter(params['bias'])\n",
    "                    x = nn_layer(input=x)\n",
    "                else:\n",
    "                    x = layer(input=x, **params)\n",
    "        return torch.sigmoid(x)\n",
    "\n",
    "    def reparameterize(self, mu_logvar, deterministic=False):\n",
    "        mu = mu_logvar[:, 0:int(mu_logvar.size()[1]/2)]\n",
    "        if deterministic: # return mu \n",
    "            return mu\n",
    "        else: # return mu + random\n",
    "            logvar = mu_logvar[:, int(mu_logvar.size()[1]/2):]\n",
    "            std = torch.exp(0.5*logvar)\n",
    "            eps = torch.randn_like(std)\n",
    "            return eps.mul(std).add_(mu)\n",
    "        \n",
    "    def forward(self, x, deterministic=False):\n",
    "        mu_logvar = self.encode(x)\n",
    "        z = self.reparameterize(mu_logvar, deterministic)\n",
    "        recon_x = self.decode(z)\n",
    "        return recon_x, mu_logvar"
   ]
  },
  {
   "cell_type": "code",
   "execution_count": 14,
   "metadata": {},
   "outputs": [],
   "source": [
    "def display_results_auto(vae_model, img_batch, num_samples=3, \n",
    "                     rotate=0, pad = 0, norm=None, data='bw', size = 28, save_loc=None):\n",
    "    row_names = []\n",
    "    col_names = ['Original', \"Reconstructed\"]\n",
    "\n",
    "    fig, ax = plt.subplots(num_samples, 2, sharex='col', sharey='row',figsize=(10,10))\n",
    "    recon_x, loss = vae_model(img_batch,  deterministic=False)\n",
    "\n",
    "    for i in list(range(num_samples)):\n",
    "        if data == 'bw': # Assume MNIST\n",
    "            transform = transforms.Compose([\n",
    "                                            transforms.RandomRotation((rotate, rotate), expand=True),\n",
    "                                            transforms.Resize(size),\n",
    "                                            transforms.Pad((pad, pad)),\n",
    "                                            transforms.ToTensor(),\n",
    "                                            transforms.Normalize((0.1307,), (0.3081,))])\n",
    "        else:\n",
    "            transform = transforms.Compose([\n",
    "                                            transforms.RandomRotation((rotate, rotate), expand=True),\n",
    "                                            transforms.Resize(size),\n",
    "                                            transforms.ToTensor(),\n",
    "                                            transforms.Normalize(*norm)])\n",
    "\n",
    "        ax[i, 0].imshow(img_batch[i, :, :, :].squeeze().cpu().detach().numpy(), cmap='Greys',  interpolation='nearest')\n",
    "        ax[i, 1].imshow(recon_x[i, :, :, :].squeeze().cpu().detach().numpy(), cmap='Greys',  interpolation='nearest')\n",
    "        ax[i, 0].axis('off')\n",
    "        ax[i, 1].axis('off')\n",
    "\n",
    "    for curr_ax, col in zip(ax[0], col_names):\n",
    "        curr_ax.set_title(col)\n",
    "\n",
    "    if save_loc:\n",
    "        plt.savefig(save_loc, bbox_inches='tight')"
   ]
  },
  {
   "cell_type": "code",
   "execution_count": 11,
   "metadata": {},
   "outputs": [
    {
     "name": "stdout",
     "output_type": "stream",
     "text": [
      "Best Loss: 751.4529673828125\n"
     ]
    },
    {
     "data": {
      "image/png": "[encoded data removed]",
      "text/plain": [
       "<Figure size 720x720 with 6 Axes>"
      ]
     },
     "metadata": {
      "needs_background": "light"
     },
     "output_type": "display_data"
    }
   ],
   "source": [
    "train_loader, val_loader = mnist_loaders(PATH, bs=256)\n",
    "model = SparseVAE(d=8192).to(DEVICE)\n",
    "metrics = train_vae(model, train_loader, val_loader, epochs=1, verbose=0, device=DEVICE)\n",
    "print('Best Loss:', metrics['val']['best_loss'])\n",
    "\n",
    "img_batch, y = next(iter(train_loader))\n",
    "img_batch = img_batch.to(DEVICE)\n",
    "display_results_auto(model, img_batch, num_samples=3, save_loc=None)"
   ]
  },
  {
   "cell_type": "code",
   "execution_count": 12,
   "metadata": {},
   "outputs": [
    {
     "name": "stdout",
     "output_type": "stream",
     "text": [
      "Best Loss: 619.8182465820313\n"
     ]
    },
    {
     "data": {
      "image/png": "[encoded data removed]",
      "text/plain": [
       "<Figure size 720x720 with 6 Axes>"
      ]
     },
     "metadata": {
      "needs_background": "light"
     },
     "output_type": "display_data"
    }
   ],
   "source": [
    "train_loader, val_loader = mnist_loaders(PATH, bs=256)\n",
    "model = SparseVAE(d=8192).to(DEVICE)\n",
    "metrics = train_vae(model, train_loader, val_loader, epochs=3, verbose=0, device=DEVICE)\n",
    "print('Best Loss:', metrics['val']['best_loss'])\n",
    "display_results_auto(model, img_batch, num_samples=3, save_loc=None)"
   ]
  },
  {
   "cell_type": "code",
   "execution_count": 13,
   "metadata": {},
   "outputs": [
    {
     "name": "stdout",
     "output_type": "stream",
     "text": [
      "Best Loss: 562.916351953125\n"
     ]
    },
    {
     "data": {
      "image/png": "[encoded data removed]",
      "text/plain": [
       "<Figure size 720x720 with 6 Axes>"
      ]
     },
     "metadata": {
      "needs_background": "light"
     },
     "output_type": "display_data"
    }
   ],
   "source": [
    "train_loader, val_loader = mnist_loaders(PATH, bs=256)\n",
    "model = SparseVAE(d=8192).to(DEVICE)\n",
    "metrics = train_vae(model, train_loader, val_loader, epochs=6, verbose=0, device=DEVICE)\n",
    "print('Best Loss:', metrics['val']['best_loss'])\n",
    "display_results_auto(model, img_batch, num_samples=3, save_loc=None)"
   ]
  },
  {
   "cell_type": "code",
   "execution_count": 15,
   "metadata": {},
   "outputs": [
    {
     "name": "stdout",
     "output_type": "stream",
     "text": [
      "Best Loss: 550.8928416015625\n"
     ]
    },
    {
     "data": {
      "image/png": "[encoded data removed]",
      "text/plain": [
       "<Figure size 720x720 with 6 Axes>"
      ]
     },
     "metadata": {
      "needs_background": "light"
     },
     "output_type": "display_data"
    }
   ],
   "source": [
    "train_loader, val_loader = mnist_loaders(PATH, bs=256)\n",
    "model = SparseVAE(d=8192).to(DEVICE)\n",
    "metrics = train_vae(model, train_loader, val_loader, epochs=15, verbose=0, device=DEVICE)\n",
    "print('Best Loss:', metrics['val']['best_loss'])\n",
    "display_results_auto(model, img_batch, num_samples=3, save_loc=None)"
   ]
  },
  {
   "cell_type": "code",
   "execution_count": 16,
   "metadata": {},
   "outputs": [
    {
     "name": "stdout",
     "output_type": "stream",
     "text": [
      "Best Loss: 575.8248029296875\n"
     ]
    },
    {
     "data": {
      "image/png": "[encoded data removed]",
      "text/plain": [
       "<Figure size 720x720 with 6 Axes>"
      ]
     },
     "metadata": {
      "needs_background": "light"
     },
     "output_type": "display_data"
    }
   ],
   "source": [
    "train_loader, val_loader = mnist_loaders(PATH, bs=256)\n",
    "model = SparseVAE(d=8192).to(DEVICE)\n",
    "metrics = train_vae(model, train_loader, val_loader, epochs=30, verbose=0, device=DEVICE)\n",
    "print('Best Loss:', metrics['val']['best_loss'])\n",
    "display_results_auto(model, img_batch, num_samples=3, save_loc=None)"
   ]
  },
  {
   "cell_type": "code",
   "execution_count": null,
   "metadata": {},
   "outputs": [],
   "source": []
  }
 ],
 "metadata": {
  "kernelspec": {
   "display_name": "HVAE",
   "language": "python",
   "name": "hvae"
  },
  "language_info": {
   "codemirror_mode": {
    "name": "ipython",
    "version": 3
   },
   "file_extension": ".py",
   "mimetype": "text/x-python",
   "name": "python",
   "nbconvert_exporter": "python",
   "pygments_lexer": "ipython3",
   "version": "3.6.7"
  }
 },
 "nbformat": 4,
 "nbformat_minor": 2
}
